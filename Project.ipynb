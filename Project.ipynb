{
 "cells": [
  {
   "cell_type": "code",
   "execution_count": 3,
   "id": "d30eb80a-2bf4-45c3-a831-6cfab1a0e1fa",
   "metadata": {},
   "outputs": [],
   "source": [
    "import numpy as np\n",
    "import pandas as pd\n",
    "import matplotlib.pyplot as plt \n",
    "from mpl_toolkits.mplot3d import Axes3D\n",
    "%matplotlib inline \n",
    "\n",
    "import seaborn as sns"
   ]
  },
  {
   "cell_type": "markdown",
   "id": "13587e22-9334-4720-9921-13da4b01d626",
   "metadata": {},
   "source": [
    "Preprocess the data by removing any nan values if any"
   ]
  },
  {
   "cell_type": "code",
   "execution_count": 4,
   "id": "f6138629-caeb-4445-8b5b-7f792719e5c5",
   "metadata": {},
   "outputs": [],
   "source": [
    "MalwareDataset = pd.read_csv('malware.csv', sep='|')"
   ]
  },
  {
   "cell_type": "code",
   "execution_count": 5,
   "id": "7ad23206-a4e6-4a67-8f76-b48d8538da3b",
   "metadata": {},
   "outputs": [
    {
     "data": {
      "text/plain": [
       "(array([41323.,     0.,     0.,     0.,     0.,     0.,     0.,     0.,\n",
       "            0., 96724.]),\n",
       " array([0. , 0.1, 0.2, 0.3, 0.4, 0.5, 0.6, 0.7, 0.8, 0.9, 1. ]),\n",
       " <BarContainer object of 10 artists>)"
      ]
     },
     "execution_count": 5,
     "metadata": {},
     "output_type": "execute_result"
    },
    {
     "data": {
      "image/png": "[encoded data removed]",
      "text/plain": [
       "<Figure size 640x480 with 1 Axes>"
      ]
     },
     "metadata": {},
     "output_type": "display_data"
    }
   ],
   "source": [
    "input = MalwareDataset['legitimate'].map({0:'Malware', 1:'Legitimate'})\n",
    "plt.hist(input)"
   ]
  },
  {
   "cell_type": "code",
   "execution_count": 7,
   "id": "f31becc9-2411-457a-9547-de00fb6143f5",
   "metadata": {},
   "outputs": [
    {
     "data": {
      "text/plain": [
       "False"
      ]
     },
     "execution_count": 7,
     "metadata": {},
     "output_type": "execute_result"
    }
   ],
   "source": [
    "MalwareDataset.isnull().values.any()"
   ]
  },
  {
   "cell_type": "markdown",
   "id": "f4649e19-864c-465f-b54a-9e5e1917329f",
   "metadata": {},
   "source": [
    "This means our data is clean of any nulls, so we do not have to drop anything"
   ]
  },
  {
   "cell_type": "code",
   "execution_count": 8,
   "id": "65d1592c-e992-4ea5-b713-cf892a8a7dca",
   "metadata": {},
   "outputs": [
    {
     "data": {
      "text/html": [
       "<div>\n",
       "<style scoped>\n",
       "    .dataframe tbody tr th:only-of-type {\n",
       "        vertical-align: middle;\n",
       "    }\n",
       "\n",
       "    .dataframe tbody tr th {\n",
       "        vertical-align: top;\n",
       "    }\n",
       "\n",
       "    .dataframe thead th {\n",
       "        text-align: right;\n",
       "    }\n",
       "</style>\n",
       "<table border=\"1\" class=\"dataframe\">\n",
       "  <thead>\n",
       "    <tr style=\"text-align: right;\">\n",
       "      <th></th>\n",
       "      <th>Name</th>\n",
       "      <th>md5</th>\n",
       "      <th>Machine</th>\n",
       "      <th>SizeOfOptionalHeader</th>\n",
       "      <th>Characteristics</th>\n",
       "      <th>MajorLinkerVersion</th>\n",
       "      <th>MinorLinkerVersion</th>\n",
       "      <th>SizeOfCode</th>\n",
       "      <th>SizeOfInitializedData</th>\n",
       "      <th>SizeOfUninitializedData</th>\n",
       "      <th>...</th>\n",
       "      <th>ResourcesNb</th>\n",
       "      <th>ResourcesMeanEntropy</th>\n",
       "      <th>ResourcesMinEntropy</th>\n",
       "      <th>ResourcesMaxEntropy</th>\n",
       "      <th>ResourcesMeanSize</th>\n",
       "      <th>ResourcesMinSize</th>\n",
       "      <th>ResourcesMaxSize</th>\n",
       "      <th>LoadConfigurationSize</th>\n",
       "      <th>VersionInformationSize</th>\n",
       "      <th>legitimate</th>\n",
       "    </tr>\n",
       "  </thead>\n",
       "  <tbody>\n",
       "    <tr>\n",
       "      <th>0</th>\n",
       "      <td>memtest.exe</td>\n",
       "      <td>631ea355665f28d4707448e442fbf5b8</td>\n",
       "      <td>332</td>\n",
       "      <td>224</td>\n",
       "      <td>258</td>\n",
       "      <td>9</td>\n",
       "      <td>0</td>\n",
       "      <td>361984</td>\n",
       "      <td>115712</td>\n",
       "      <td>0</td>\n",
       "      <td>...</td>\n",
       "      <td>4</td>\n",
       "      <td>3.262823</td>\n",
       "      <td>2.568844</td>\n",
       "      <td>3.537939</td>\n",
       "      <td>8797.000000</td>\n",
       "      <td>216</td>\n",
       "      <td>18032</td>\n",
       "      <td>0</td>\n",
       "      <td>16</td>\n",
       "      <td>1</td>\n",
       "    </tr>\n",
       "    <tr>\n",
       "      <th>1</th>\n",
       "      <td>ose.exe</td>\n",
       "      <td>9d10f99a6712e28f8acd5641e3a7ea6b</td>\n",
       "      <td>332</td>\n",
       "      <td>224</td>\n",
       "      <td>3330</td>\n",
       "      <td>9</td>\n",
       "      <td>0</td>\n",
       "      <td>130560</td>\n",
       "      <td>19968</td>\n",
       "      <td>0</td>\n",
       "      <td>...</td>\n",
       "      <td>2</td>\n",
       "      <td>4.250461</td>\n",
       "      <td>3.420744</td>\n",
       "      <td>5.080177</td>\n",
       "      <td>837.000000</td>\n",
       "      <td>518</td>\n",
       "      <td>1156</td>\n",
       "      <td>72</td>\n",
       "      <td>18</td>\n",
       "      <td>1</td>\n",
       "    </tr>\n",
       "    <tr>\n",
       "      <th>2</th>\n",
       "      <td>setup.exe</td>\n",
       "      <td>4d92f518527353c0db88a70fddcfd390</td>\n",
       "      <td>332</td>\n",
       "      <td>224</td>\n",
       "      <td>3330</td>\n",
       "      <td>9</td>\n",
       "      <td>0</td>\n",
       "      <td>517120</td>\n",
       "      <td>621568</td>\n",
       "      <td>0</td>\n",
       "      <td>...</td>\n",
       "      <td>11</td>\n",
       "      <td>4.426324</td>\n",
       "      <td>2.846449</td>\n",
       "      <td>5.271813</td>\n",
       "      <td>31102.272727</td>\n",
       "      <td>104</td>\n",
       "      <td>270376</td>\n",
       "      <td>72</td>\n",
       "      <td>18</td>\n",
       "      <td>1</td>\n",
       "    </tr>\n",
       "    <tr>\n",
       "      <th>3</th>\n",
       "      <td>DW20.EXE</td>\n",
       "      <td>a41e524f8d45f0074fd07805ff0c9b12</td>\n",
       "      <td>332</td>\n",
       "      <td>224</td>\n",
       "      <td>258</td>\n",
       "      <td>9</td>\n",
       "      <td>0</td>\n",
       "      <td>585728</td>\n",
       "      <td>369152</td>\n",
       "      <td>0</td>\n",
       "      <td>...</td>\n",
       "      <td>10</td>\n",
       "      <td>4.364291</td>\n",
       "      <td>2.669314</td>\n",
       "      <td>6.400720</td>\n",
       "      <td>1457.000000</td>\n",
       "      <td>90</td>\n",
       "      <td>4264</td>\n",
       "      <td>72</td>\n",
       "      <td>18</td>\n",
       "      <td>1</td>\n",
       "    </tr>\n",
       "    <tr>\n",
       "      <th>4</th>\n",
       "      <td>dwtrig20.exe</td>\n",
       "      <td>c87e561258f2f8650cef999bf643a731</td>\n",
       "      <td>332</td>\n",
       "      <td>224</td>\n",
       "      <td>258</td>\n",
       "      <td>9</td>\n",
       "      <td>0</td>\n",
       "      <td>294912</td>\n",
       "      <td>247296</td>\n",
       "      <td>0</td>\n",
       "      <td>...</td>\n",
       "      <td>2</td>\n",
       "      <td>4.306100</td>\n",
       "      <td>3.421598</td>\n",
       "      <td>5.190603</td>\n",
       "      <td>1074.500000</td>\n",
       "      <td>849</td>\n",
       "      <td>1300</td>\n",
       "      <td>72</td>\n",
       "      <td>18</td>\n",
       "      <td>1</td>\n",
       "    </tr>\n",
       "  </tbody>\n",
       "</table>\n",
       "<p>5 rows × 57 columns</p>\n",
       "</div>"
      ],
      "text/plain": [
       "           Name                               md5  Machine  \\\n",
       "0   memtest.exe  631ea355665f28d4707448e442fbf5b8      332   \n",
       "1       ose.exe  9d10f99a6712e28f8acd5641e3a7ea6b      332   \n",
       "2     setup.exe  4d92f518527353c0db88a70fddcfd390      332   \n",
       "3      DW20.EXE  a41e524f8d45f0074fd07805ff0c9b12      332   \n",
       "4  dwtrig20.exe  c87e561258f2f8650cef999bf643a731      332   \n",
       "\n",
       "   SizeOfOptionalHeader  Characteristics  MajorLinkerVersion  \\\n",
       "0                   224              258                   9   \n",
       "1                   224             3330                   9   \n",
       "2                   224             3330                   9   \n",
       "3                   224              258                   9   \n",
       "4                   224              258                   9   \n",
       "\n",
       "   MinorLinkerVersion  SizeOfCode  SizeOfInitializedData  \\\n",
       "0                   0      361984                 115712   \n",
       "1                   0      130560                  19968   \n",
       "2                   0      517120                 621568   \n",
       "3                   0      585728                 369152   \n",
       "4                   0      294912                 247296   \n",
       "\n",
       "   SizeOfUninitializedData  ...  ResourcesNb  ResourcesMeanEntropy  \\\n",
       "0                        0  ...            4              3.262823   \n",
       "1                        0  ...            2              4.250461   \n",
       "2                        0  ...           11              4.426324   \n",
       "3                        0  ...           10              4.364291   \n",
       "4                        0  ...            2              4.306100   \n",
       "\n",
       "   ResourcesMinEntropy  ResourcesMaxEntropy  ResourcesMeanSize  \\\n",
       "0             2.568844             3.537939        8797.000000   \n",
       "1             3.420744             5.080177         837.000000   \n",
       "2             2.846449             5.271813       31102.272727   \n",
       "3             2.669314             6.400720        1457.000000   \n",
       "4             3.421598             5.190603        1074.500000   \n",
       "\n",
       "   ResourcesMinSize  ResourcesMaxSize  LoadConfigurationSize  \\\n",
       "0               216             18032                      0   \n",
       "1               518              1156                     72   \n",
       "2               104            270376                     72   \n",
       "3                90              4264                     72   \n",
       "4               849              1300                     72   \n",
       "\n",
       "   VersionInformationSize  legitimate  \n",
       "0                      16           1  \n",
       "1                      18           1  \n",
       "2                      18           1  \n",
       "3                      18           1  \n",
       "4                      18           1  \n",
       "\n",
       "[5 rows x 57 columns]"
      ]
     },
     "execution_count": 8,
     "metadata": {},
     "output_type": "execute_result"
    }
   ],
   "source": [
    "MalwareDataset.head()"
   ]
  },
  {
   "cell_type": "code",
   "execution_count": 9,
   "id": "b5e01090-6195-4607-8334-80f318a7dc66",
   "metadata": {},
   "outputs": [
    {
     "data": {
      "text/html": [
       "<div>\n",
       "<style scoped>\n",
       "    .dataframe tbody tr th:only-of-type {\n",
       "        vertical-align: middle;\n",
       "    }\n",
       "\n",
       "    .dataframe tbody tr th {\n",
       "        vertical-align: top;\n",
       "    }\n",
       "\n",
       "    .dataframe thead th {\n",
       "        text-align: right;\n",
       "    }\n",
       "</style>\n",
       "<table border=\"1\" class=\"dataframe\">\n",
       "  <thead>\n",
       "    <tr style=\"text-align: right;\">\n",
       "      <th></th>\n",
       "      <th>Name</th>\n",
       "      <th>md5</th>\n",
       "      <th>Machine</th>\n",
       "      <th>SizeOfOptionalHeader</th>\n",
       "      <th>Characteristics</th>\n",
       "      <th>MajorLinkerVersion</th>\n",
       "      <th>MinorLinkerVersion</th>\n",
       "      <th>SizeOfCode</th>\n",
       "      <th>SizeOfInitializedData</th>\n",
       "      <th>SizeOfUninitializedData</th>\n",
       "      <th>...</th>\n",
       "      <th>ResourcesNb</th>\n",
       "      <th>ResourcesMeanEntropy</th>\n",
       "      <th>ResourcesMinEntropy</th>\n",
       "      <th>ResourcesMaxEntropy</th>\n",
       "      <th>ResourcesMeanSize</th>\n",
       "      <th>ResourcesMinSize</th>\n",
       "      <th>ResourcesMaxSize</th>\n",
       "      <th>LoadConfigurationSize</th>\n",
       "      <th>VersionInformationSize</th>\n",
       "      <th>legitimate</th>\n",
       "    </tr>\n",
       "  </thead>\n",
       "  <tbody>\n",
       "    <tr>\n",
       "      <th>138042</th>\n",
       "      <td>VirusShare_8e292b418568d6e7b87f2a32aee7074b</td>\n",
       "      <td>8e292b418568d6e7b87f2a32aee7074b</td>\n",
       "      <td>332</td>\n",
       "      <td>224</td>\n",
       "      <td>258</td>\n",
       "      <td>11</td>\n",
       "      <td>0</td>\n",
       "      <td>205824</td>\n",
       "      <td>223744</td>\n",
       "      <td>0</td>\n",
       "      <td>...</td>\n",
       "      <td>7</td>\n",
       "      <td>4.122736</td>\n",
       "      <td>1.370260</td>\n",
       "      <td>7.677091</td>\n",
       "      <td>14900.714286</td>\n",
       "      <td>16</td>\n",
       "      <td>81654</td>\n",
       "      <td>72</td>\n",
       "      <td>0</td>\n",
       "      <td>0</td>\n",
       "    </tr>\n",
       "    <tr>\n",
       "      <th>138043</th>\n",
       "      <td>VirusShare_260d9e2258aed4c8a3bbd703ec895822</td>\n",
       "      <td>260d9e2258aed4c8a3bbd703ec895822</td>\n",
       "      <td>332</td>\n",
       "      <td>224</td>\n",
       "      <td>33167</td>\n",
       "      <td>2</td>\n",
       "      <td>25</td>\n",
       "      <td>37888</td>\n",
       "      <td>185344</td>\n",
       "      <td>0</td>\n",
       "      <td>...</td>\n",
       "      <td>26</td>\n",
       "      <td>3.377663</td>\n",
       "      <td>2.031619</td>\n",
       "      <td>5.050074</td>\n",
       "      <td>6905.846154</td>\n",
       "      <td>44</td>\n",
       "      <td>67624</td>\n",
       "      <td>0</td>\n",
       "      <td>15</td>\n",
       "      <td>0</td>\n",
       "    </tr>\n",
       "    <tr>\n",
       "      <th>138044</th>\n",
       "      <td>VirusShare_8d088a51b7d225c9f5d11d239791ec3f</td>\n",
       "      <td>8d088a51b7d225c9f5d11d239791ec3f</td>\n",
       "      <td>332</td>\n",
       "      <td>224</td>\n",
       "      <td>258</td>\n",
       "      <td>10</td>\n",
       "      <td>0</td>\n",
       "      <td>118272</td>\n",
       "      <td>380416</td>\n",
       "      <td>0</td>\n",
       "      <td>...</td>\n",
       "      <td>22</td>\n",
       "      <td>6.825406</td>\n",
       "      <td>2.617026</td>\n",
       "      <td>7.990487</td>\n",
       "      <td>14981.909091</td>\n",
       "      <td>48</td>\n",
       "      <td>22648</td>\n",
       "      <td>72</td>\n",
       "      <td>14</td>\n",
       "      <td>0</td>\n",
       "    </tr>\n",
       "    <tr>\n",
       "      <th>138045</th>\n",
       "      <td>VirusShare_4286dccf67ca220fe67635388229a9f3</td>\n",
       "      <td>4286dccf67ca220fe67635388229a9f3</td>\n",
       "      <td>332</td>\n",
       "      <td>224</td>\n",
       "      <td>33166</td>\n",
       "      <td>2</td>\n",
       "      <td>25</td>\n",
       "      <td>49152</td>\n",
       "      <td>16896</td>\n",
       "      <td>0</td>\n",
       "      <td>...</td>\n",
       "      <td>10</td>\n",
       "      <td>3.421627</td>\n",
       "      <td>2.060964</td>\n",
       "      <td>4.739744</td>\n",
       "      <td>601.600000</td>\n",
       "      <td>16</td>\n",
       "      <td>2216</td>\n",
       "      <td>0</td>\n",
       "      <td>0</td>\n",
       "      <td>0</td>\n",
       "    </tr>\n",
       "    <tr>\n",
       "      <th>138046</th>\n",
       "      <td>VirusShare_d7648eae45f09b3adb75127f43be6d11</td>\n",
       "      <td>d7648eae45f09b3adb75127f43be6d11</td>\n",
       "      <td>332</td>\n",
       "      <td>224</td>\n",
       "      <td>258</td>\n",
       "      <td>11</td>\n",
       "      <td>0</td>\n",
       "      <td>111616</td>\n",
       "      <td>468480</td>\n",
       "      <td>0</td>\n",
       "      <td>...</td>\n",
       "      <td>4</td>\n",
       "      <td>4.407252</td>\n",
       "      <td>1.980482</td>\n",
       "      <td>6.115374</td>\n",
       "      <td>96625.000000</td>\n",
       "      <td>20</td>\n",
       "      <td>318464</td>\n",
       "      <td>72</td>\n",
       "      <td>0</td>\n",
       "      <td>0</td>\n",
       "    </tr>\n",
       "  </tbody>\n",
       "</table>\n",
       "<p>5 rows × 57 columns</p>\n",
       "</div>"
      ],
      "text/plain": [
       "                                               Name  \\\n",
       "138042  VirusShare_8e292b418568d6e7b87f2a32aee7074b   \n",
       "138043  VirusShare_260d9e2258aed4c8a3bbd703ec895822   \n",
       "138044  VirusShare_8d088a51b7d225c9f5d11d239791ec3f   \n",
       "138045  VirusShare_4286dccf67ca220fe67635388229a9f3   \n",
       "138046  VirusShare_d7648eae45f09b3adb75127f43be6d11   \n",
       "\n",
       "                                     md5  Machine  SizeOfOptionalHeader  \\\n",
       "138042  8e292b418568d6e7b87f2a32aee7074b      332                   224   \n",
       "138043  260d9e2258aed4c8a3bbd703ec895822      332                   224   \n",
       "138044  8d088a51b7d225c9f5d11d239791ec3f      332                   224   \n",
       "138045  4286dccf67ca220fe67635388229a9f3      332                   224   \n",
       "138046  d7648eae45f09b3adb75127f43be6d11      332                   224   \n",
       "\n",
       "        Characteristics  MajorLinkerVersion  MinorLinkerVersion  SizeOfCode  \\\n",
       "138042              258                  11                   0      205824   \n",
       "138043            33167                   2                  25       37888   \n",
       "138044              258                  10                   0      118272   \n",
       "138045            33166                   2                  25       49152   \n",
       "138046              258                  11                   0      111616   \n",
       "\n",
       "        SizeOfInitializedData  SizeOfUninitializedData  ...  ResourcesNb  \\\n",
       "138042                 223744                        0  ...            7   \n",
       "138043                 185344                        0  ...           26   \n",
       "138044                 380416                        0  ...           22   \n",
       "138045                  16896                        0  ...           10   \n",
       "138046                 468480                        0  ...            4   \n",
       "\n",
       "        ResourcesMeanEntropy  ResourcesMinEntropy  ResourcesMaxEntropy  \\\n",
       "138042              4.122736             1.370260             7.677091   \n",
       "138043              3.377663             2.031619             5.050074   \n",
       "138044              6.825406             2.617026             7.990487   \n",
       "138045              3.421627             2.060964             4.739744   \n",
       "138046              4.407252             1.980482             6.115374   \n",
       "\n",
       "        ResourcesMeanSize  ResourcesMinSize  ResourcesMaxSize  \\\n",
       "138042       14900.714286                16             81654   \n",
       "138043        6905.846154                44             67624   \n",
       "138044       14981.909091                48             22648   \n",
       "138045         601.600000                16              2216   \n",
       "138046       96625.000000                20            318464   \n",
       "\n",
       "        LoadConfigurationSize  VersionInformationSize  legitimate  \n",
       "138042                     72                       0           0  \n",
       "138043                      0                      15           0  \n",
       "138044                     72                      14           0  \n",
       "138045                      0                       0           0  \n",
       "138046                     72                       0           0  \n",
       "\n",
       "[5 rows x 57 columns]"
      ]
     },
     "execution_count": 9,
     "metadata": {},
     "output_type": "execute_result"
    }
   ],
   "source": [
    "MalwareDataset.tail()"
   ]
  },
  {
   "cell_type": "code",
   "execution_count": 10,
   "id": "0740cb84-7d4d-43d6-8407-56220bc3647c",
   "metadata": {},
   "outputs": [],
   "source": [
    "MalwareDataset = MalwareDataset.drop(['Name', 'md5'], axis=1)"
   ]
  },
  {
   "cell_type": "code",
   "execution_count": 11,
   "id": "577e1866-5d56-4dc0-b31f-027fe3b92678",
   "metadata": {},
   "outputs": [
    {
     "data": {
      "text/plain": [
       "Machine                            3\n",
       "SizeOfOptionalHeader               5\n",
       "Characteristics                  104\n",
       "MajorLinkerVersion                41\n",
       "MinorLinkerVersion                62\n",
       "SizeOfCode                      3809\n",
       "SizeOfInitializedData           3217\n",
       "SizeOfUninitializedData          441\n",
       "AddressOfEntryPoint            23110\n",
       "BaseOfCode                       385\n",
       "BaseOfData                      1106\n",
       "ImageBase                       9099\n",
       "SectionAlignment                  12\n",
       "FileAlignment                      9\n",
       "MajorOperatingSystemVersion       12\n",
       "MinorOperatingSystemVersion       12\n",
       "MajorImageVersion                 38\n",
       "MinorImageVersion                 70\n",
       "MajorSubsystemVersion              6\n",
       "MinorSubsystemVersion             10\n",
       "SizeOfImage                     2312\n",
       "SizeOfHeaders                     30\n",
       "CheckSum                       81633\n",
       "Subsystem                          4\n",
       "DllCharacteristics                74\n",
       "SizeOfStackReserve                40\n",
       "SizeOfStackCommit                 40\n",
       "SizeOfHeapReserve                 30\n",
       "SizeOfHeapCommit                  21\n",
       "LoaderFlags                       15\n",
       "NumberOfRvaAndSizes               23\n",
       "SectionsNb                        28\n",
       "SectionsMeanEntropy            58807\n",
       "SectionsMinEntropy             25505\n",
       "SectionsMaxEntropy             49062\n",
       "SectionsMeanRawsize             9233\n",
       "SectionsMinRawsize               694\n",
       "SectionMaxRawsize               4796\n",
       "SectionsMeanVirtualsize        36811\n",
       "SectionsMinVirtualsize          6515\n",
       "SectionMaxVirtualsize          29123\n",
       "ImportsNbDLL                      48\n",
       "ImportsNb                        954\n",
       "ImportsNbOrdinal                 337\n",
       "ExportNb                         670\n",
       "ResourcesNb                      496\n",
       "ResourcesMeanEntropy           42745\n",
       "ResourcesMinEntropy            17929\n",
       "ResourcesMaxEntropy            23004\n",
       "ResourcesMeanSize              16013\n",
       "ResourcesMinSize                1011\n",
       "ResourcesMaxSize                6150\n",
       "LoadConfigurationSize             39\n",
       "VersionInformationSize            20\n",
       "legitimate                         2\n",
       "dtype: int64"
      ]
     },
     "execution_count": 11,
     "metadata": {},
     "output_type": "execute_result"
    }
   ],
   "source": [
    "MalwareDataset.nunique()"
   ]
  },
  {
   "cell_type": "code",
   "execution_count": 16,
   "id": "c2fa73da-e823-4e7c-95c4-f81d1fda2e2f",
   "metadata": {},
   "outputs": [],
   "source": [
    "import sklearn\n",
    "from sklearn.feature_selection import SelectFromModel\n",
    "from sklearn.ensemble import ExtraTreesClassifier\n",
    "from sklearn.model_selection import train_test_split\n",
    "from sklearn.model_selection import cross_validate"
   ]
  },
  {
   "cell_type": "code",
   "execution_count": 20,
   "id": "db4fd4f0-580c-4dbb-bf2a-8d9543b7ef4d",
   "metadata": {},
   "outputs": [
    {
     "data": {
      "text/plain": [
       "['Machine',\n",
       " 'SizeOfOptionalHeader',\n",
       " 'Characteristics',\n",
       " 'MajorLinkerVersion',\n",
       " 'MinorLinkerVersion',\n",
       " 'SizeOfCode',\n",
       " 'SizeOfInitializedData',\n",
       " 'SizeOfUninitializedData',\n",
       " 'AddressOfEntryPoint',\n",
       " 'BaseOfCode',\n",
       " 'BaseOfData',\n",
       " 'ImageBase',\n",
       " 'SectionAlignment',\n",
       " 'FileAlignment',\n",
       " 'MajorOperatingSystemVersion',\n",
       " 'MinorOperatingSystemVersion',\n",
       " 'MajorImageVersion',\n",
       " 'MinorImageVersion',\n",
       " 'MajorSubsystemVersion',\n",
       " 'MinorSubsystemVersion',\n",
       " 'SizeOfImage',\n",
       " 'SizeOfHeaders',\n",
       " 'CheckSum',\n",
       " 'Subsystem',\n",
       " 'DllCharacteristics',\n",
       " 'SizeOfStackReserve',\n",
       " 'SizeOfStackCommit',\n",
       " 'SizeOfHeapReserve',\n",
       " 'SizeOfHeapCommit',\n",
       " 'LoaderFlags',\n",
       " 'NumberOfRvaAndSizes',\n",
       " 'SectionsNb',\n",
       " 'SectionsMeanEntropy',\n",
       " 'SectionsMinEntropy',\n",
       " 'SectionsMaxEntropy',\n",
       " 'SectionsMeanRawsize',\n",
       " 'SectionsMinRawsize',\n",
       " 'SectionMaxRawsize',\n",
       " 'SectionsMeanVirtualsize',\n",
       " 'SectionsMinVirtualsize',\n",
       " 'SectionMaxVirtualsize',\n",
       " 'ImportsNbDLL',\n",
       " 'ImportsNb',\n",
       " 'ImportsNbOrdinal',\n",
       " 'ExportNb',\n",
       " 'ResourcesNb',\n",
       " 'ResourcesMeanEntropy',\n",
       " 'ResourcesMinEntropy',\n",
       " 'ResourcesMaxEntropy',\n",
       " 'ResourcesMeanSize',\n",
       " 'ResourcesMinSize',\n",
       " 'ResourcesMaxSize',\n",
       " 'LoadConfigurationSize',\n",
       " 'VersionInformationSize']"
      ]
     },
     "metadata": {},
     "output_type": "display_data"
    }
   ],
   "source": [
    "target = 'legitimate'\n",
    "features = MalwareDataset.columns.to_list()\n",
    "features.remove(target)\n",
    "\n",
    "display(features)"
   ]
  },
  {
   "cell_type": "code",
   "execution_count": 21,
   "id": "2d09ee44-9b13-4203-b7a1-9ae00eb63837",
   "metadata": {},
   "outputs": [],
   "source": [
    "X = MalwareDataset[features]\n",
    "Y = MalwareDataset[target]"
   ]
  },
  {
   "cell_type": "code",
   "execution_count": 24,
   "id": "ac374232-43db-4eef-9a9c-a02a5c35b01d",
   "metadata": {},
   "outputs": [],
   "source": [
    "from sklearn.model_selection import train_test_split\n",
    "Legit_Train, Legit_Test, Malware_Train, Malware_Test = train_test_split(X, Y, test_size=0.2)"
   ]
  },
  {
   "cell_type": "code",
   "execution_count": 25,
   "id": "e04b163f-0311-43d4-a43f-243cbce37da5",
   "metadata": {},
   "outputs": [
    {
     "data": {
      "text/plain": [
       "array(['Characteristics', 'SectionsMaxEntropy', 'ResourcesMaxEntropy',\n",
       "       'VersionInformationSize'], dtype=object)"
      ]
     },
     "metadata": {},
     "output_type": "display_data"
    },
    {
     "data": {
      "text/html": [
       "<div>\n",
       "<style scoped>\n",
       "    .dataframe tbody tr th:only-of-type {\n",
       "        vertical-align: middle;\n",
       "    }\n",
       "\n",
       "    .dataframe tbody tr th {\n",
       "        vertical-align: top;\n",
       "    }\n",
       "\n",
       "    .dataframe thead th {\n",
       "        text-align: right;\n",
       "    }\n",
       "</style>\n",
       "<table border=\"1\" class=\"dataframe\">\n",
       "  <thead>\n",
       "    <tr style=\"text-align: right;\">\n",
       "      <th></th>\n",
       "      <th>0</th>\n",
       "      <th>1</th>\n",
       "      <th>2</th>\n",
       "      <th>3</th>\n",
       "    </tr>\n",
       "  </thead>\n",
       "  <tbody>\n",
       "    <tr>\n",
       "      <th>0</th>\n",
       "      <td>33166.0</td>\n",
       "      <td>6.648695</td>\n",
       "      <td>5.244956</td>\n",
       "      <td>0.0</td>\n",
       "    </tr>\n",
       "    <tr>\n",
       "      <th>1</th>\n",
       "      <td>258.0</td>\n",
       "      <td>7.966134</td>\n",
       "      <td>3.764385</td>\n",
       "      <td>14.0</td>\n",
       "    </tr>\n",
       "    <tr>\n",
       "      <th>2</th>\n",
       "      <td>258.0</td>\n",
       "      <td>7.961871</td>\n",
       "      <td>7.992688</td>\n",
       "      <td>14.0</td>\n",
       "    </tr>\n",
       "    <tr>\n",
       "      <th>3</th>\n",
       "      <td>8462.0</td>\n",
       "      <td>3.581755</td>\n",
       "      <td>3.553298</td>\n",
       "      <td>16.0</td>\n",
       "    </tr>\n",
       "    <tr>\n",
       "      <th>4</th>\n",
       "      <td>258.0</td>\n",
       "      <td>5.899579</td>\n",
       "      <td>4.922740</td>\n",
       "      <td>16.0</td>\n",
       "    </tr>\n",
       "    <tr>\n",
       "      <th>...</th>\n",
       "      <td>...</td>\n",
       "      <td>...</td>\n",
       "      <td>...</td>\n",
       "      <td>...</td>\n",
       "    </tr>\n",
       "    <tr>\n",
       "      <th>110432</th>\n",
       "      <td>258.0</td>\n",
       "      <td>7.966134</td>\n",
       "      <td>3.764385</td>\n",
       "      <td>14.0</td>\n",
       "    </tr>\n",
       "    <tr>\n",
       "      <th>110433</th>\n",
       "      <td>33167.0</td>\n",
       "      <td>7.926939</td>\n",
       "      <td>7.920188</td>\n",
       "      <td>18.0</td>\n",
       "    </tr>\n",
       "    <tr>\n",
       "      <th>110434</th>\n",
       "      <td>258.0</td>\n",
       "      <td>7.965301</td>\n",
       "      <td>7.992688</td>\n",
       "      <td>14.0</td>\n",
       "    </tr>\n",
       "    <tr>\n",
       "      <th>110435</th>\n",
       "      <td>258.0</td>\n",
       "      <td>6.547855</td>\n",
       "      <td>6.504819</td>\n",
       "      <td>0.0</td>\n",
       "    </tr>\n",
       "    <tr>\n",
       "      <th>110436</th>\n",
       "      <td>258.0</td>\n",
       "      <td>6.981147</td>\n",
       "      <td>7.020721</td>\n",
       "      <td>0.0</td>\n",
       "    </tr>\n",
       "  </tbody>\n",
       "</table>\n",
       "<p>110437 rows × 4 columns</p>\n",
       "</div>"
      ],
      "text/plain": [
       "              0         1         2     3\n",
       "0       33166.0  6.648695  5.244956   0.0\n",
       "1         258.0  7.966134  3.764385  14.0\n",
       "2         258.0  7.961871  7.992688  14.0\n",
       "3        8462.0  3.581755  3.553298  16.0\n",
       "4         258.0  5.899579  4.922740  16.0\n",
       "...         ...       ...       ...   ...\n",
       "110432    258.0  7.966134  3.764385  14.0\n",
       "110433  33167.0  7.926939  7.920188  18.0\n",
       "110434    258.0  7.965301  7.992688  14.0\n",
       "110435    258.0  6.547855  6.504819   0.0\n",
       "110436    258.0  6.981147  7.020721   0.0\n",
       "\n",
       "[110437 rows x 4 columns]"
      ]
     },
     "execution_count": 25,
     "metadata": {},
     "output_type": "execute_result"
    }
   ],
   "source": [
    "from sklearn.feature_selection import SequentialFeatureSelector\n",
    "from sklearn.ensemble import RandomForestClassifier\n",
    "\n",
    "rf = RandomForestClassifier(random_state=0)\n",
    "\n",
    "sfs = SequentialFeatureSelector(rf, n_features_to_select=4, n_jobs=-1)\n",
    "sfs_X_train = sfs.fit_transform(Legit_Train, Malware_Train)\n",
    "\n",
    "display(sfs.get_feature_names_out())\n",
    "\n",
    "pd.DataFrame(sfs_X_train)"
   ]
  },
  {
   "cell_type": "code",
   "execution_count": 26,
   "id": "066324dc-4f52-46ea-85b5-af2098c39c04",
   "metadata": {},
   "outputs": [
    {
     "name": "stderr",
     "output_type": "stream",
     "text": [
      "C:\\Users\\Infatal\\anaconda3\\lib\\site-packages\\sklearn\\linear_model\\_ridge.py:216: LinAlgWarning: Ill-conditioned matrix (rcond=4.20312e-36): result may not be accurate.\n",
      "  return linalg.solve(A, Xy, assume_a=\"pos\", overwrite_a=True).T\n"
     ]
    },
    {
     "name": "stdout",
     "output_type": "stream",
     "text": [
      "RIDGE Classifier score: 0.964070988772184\n",
      "LOGREG Classifier score: 0.7030785947120608\n",
      "KNN Classifier score: 0.9871785584932995\n",
      "NB Classifier score: 0.7030785947120608\n",
      "FOREST Classifier score: 0.9952553422672945\n"
     ]
    }
   ],
   "source": [
    "from sklearn.linear_model import RidgeClassifier\n",
    "ridge = RidgeClassifier()\n",
    "\n",
    "from sklearn.linear_model import LogisticRegression\n",
    "logreg = LogisticRegression(n_jobs=-1)\n",
    "\n",
    "from sklearn.neighbors import KNeighborsClassifier\n",
    "knn = KNeighborsClassifier(n_jobs=-1)\n",
    "\n",
    "from sklearn.naive_bayes import GaussianNB\n",
    "nb = GaussianNB()\n",
    "\n",
    "from sklearn.ensemble import RandomForestClassifier\n",
    "forest = RandomForestClassifier(n_jobs=-1)\n",
    "\n",
    "ridge.fit(Legit_Train, Malware_Train)\n",
    "logreg.fit(Legit_Train, Malware_Train)\n",
    "knn.fit(Legit_Train, Malware_Train)\n",
    "nb.fit(Legit_Train, Malware_Train)\n",
    "forest.fit(Legit_Train, Malware_Train)\n",
    "\n",
    "\n",
    "print(f\"RIDGE Classifier score: {ridge.score(Legit_Test, Malware_Test)}\")\n",
    "print(f\"LOGREG Classifier score: {logreg.score(Legit_Test, Malware_Test)}\")\n",
    "print(f\"KNN Classifier score: {knn.score(Legit_Test, Malware_Test)}\")\n",
    "print(f\"NB Classifier score: {nb.score(Legit_Test, Malware_Test)}\")\n",
    "print(f\"FOREST Classifier score: {forest.score(Legit_Test, Malware_Test)}\")"
   ]
  },
  {
   "cell_type": "markdown",
   "id": "9e4e7d68-3afa-49ec-98e1-b70de2b80dd6",
   "metadata": {},
   "source": [
    "Based on this Random Forest seems to be the best, so I will use it."
   ]
  },
  {
   "cell_type": "code",
   "execution_count": 27,
   "id": "da3330e1-8ce5-4084-be8f-6e004cd3e3b4",
   "metadata": {},
   "outputs": [
    {
     "name": "stdout",
     "output_type": "stream",
     "text": [
      "Best params: {'min_impurity_decrease': 0.0, 'min_samples_leaf': 1, 'min_samples_split': 2, 'min_weight_fraction_leaf': 0.0, 'n_estimators': 200}\n",
      "Best param scores: 0.9946304190007422\n"
     ]
    }
   ],
   "source": [
    "from sklearn.model_selection import GridSearchCV\n",
    "from sklearn.ensemble import RandomForestClassifier\n",
    "forest2 = RandomForestClassifier()\n",
    "\n",
    "hyper_parameters = {\n",
    "    'n_estimators':[50, 100, 200],\n",
    "    'min_samples_split':[2, 3, 4],\n",
    "    'min_samples_leaf':[1, 2, 3],\n",
    "    'min_weight_fraction_leaf':[0.0, 0.3, 0.5],\n",
    "    'min_impurity_decrease':[0.0, 1.0, 2.0]\n",
    "}\n",
    "\n",
    "gscv = GridSearchCV(forest2, hyper_parameters, n_jobs=-1)\n",
    "gscv.fit(Legit_Train, Malware_Train)\n",
    "\n",
    "best_params = gscv.best_params_\n",
    "best_param_score = gscv.best_score_\n",
    "\n",
    "print(f\"Best params: {best_params}\")\n",
    "print(f\"Best param scores: {best_param_score}\")"
   ]
  },
  {
   "cell_type": "markdown",
   "id": "ad82f7e3-77ee-4f71-8c5d-54065d7db9ae",
   "metadata": {},
   "source": [
    "From the results it seems like the default hyper parameters seem to be the best to use for this classifier except for the n_estimators (Takes a very very long time to run. Careful)"
   ]
  },
  {
   "cell_type": "code",
   "execution_count": 29,
   "id": "ee5b8d14-c253-4409-b5a1-2feb635030b6",
   "metadata": {},
   "outputs": [],
   "source": [
    "#train using best parameters\n",
    "forest3 = RandomForestClassifier(n_estimators=200, random_state=0, n_jobs=-1)\n",
    "forest3.fit(X, Y)\n",
    "y_test = forest3.predict(Legit_Test)"
   ]
  },
  {
   "cell_type": "code",
   "execution_count": 31,
   "id": "f97ceb44-bf90-4715-9549-d939c61115e2",
   "metadata": {},
   "outputs": [
    {
     "data": {
      "text/plain": [
       "[<matplotlib.lines.Line2D at 0x2f6da363700>]"
      ]
     },
     "execution_count": 31,
     "metadata": {},
     "output_type": "execute_result"
    },
    {
     "data": {
      "image/png": "[encoded data removed]",
      "text/plain": [
       "<Figure size 640x480 with 1 Axes>"
      ]
     },
     "metadata": {},
     "output_type": "display_data"
    }
   ],
   "source": [
    "plt.plot(y_test)\n",
    "plt.plot(Malware_Test)"
   ]
  },
  {
   "cell_type": "code",
   "execution_count": 32,
   "id": "e517ec33-baa4-4229-959f-a975c0b0e86c",
   "metadata": {},
   "outputs": [
    {
     "data": {
      "text/plain": [
       "[<matplotlib.lines.Line2D at 0x2f6da47ad00>]"
      ]
     },
     "execution_count": 32,
     "metadata": {},
     "output_type": "execute_result"
    },
    {
     "data": {
      "image/png": "[encoded data removed]",
      "text/plain": [
       "<Figure size 640x480 with 1 Axes>"
      ]
     },
     "metadata": {},
     "output_type": "display_data"
    }
   ],
   "source": [
    "plt.plot(Malware_Test)"
   ]
  },
  {
   "cell_type": "code",
   "execution_count": 33,
   "id": "bea78b1f-dc5a-4800-ae2d-0a76a6265440",
   "metadata": {},
   "outputs": [],
   "source": [
    "y_test_proba  = forest3.predict_proba(Legit_Test)"
   ]
  },
  {
   "cell_type": "code",
   "execution_count": 46,
   "id": "873cd07e-056c-462e-83c0-0927eba6c254",
   "metadata": {},
   "outputs": [
    {
     "data": {
      "text/plain": [
       "[<matplotlib.lines.Line2D at 0x2f6aecd3100>]"
      ]
     },
     "execution_count": 46,
     "metadata": {},
     "output_type": "execute_result"
    },
    {
     "data": {
      "image/png": "[encoded data removed]",
      "text/plain": [
       "<Figure size 640x480 with 1 Axes>"
      ]
     },
     "metadata": {},
     "output_type": "display_data"
    }
   ],
   "source": [
    "plt.plot(y_test_proba)\n",
    "plt.plot(Malware_Test)"
   ]
  },
  {
   "cell_type": "code",
   "execution_count": 70,
   "id": "18703039-b985-4c6a-88e2-e686206622bb",
   "metadata": {},
   "outputs": [
    {
     "data": {
      "image/png": "[encoded data removed]",
      "text/plain": [
       "<Figure size 640x480 with 2 Axes>"
      ]
     },
     "metadata": {},
     "output_type": "display_data"
    }
   ],
   "source": [
    "from sklearn.metrics import confusion_matrix, ConfusionMatrixDisplay\n",
    "from sklearn.metrics import recall_score\n",
    "#tpr = recall_score(Legit_Test, y_test)\n",
    "\n",
    "cm = confusion_matrix(Malware_Test, y_test)\n",
    "disp = ConfusionMatrixDisplay(confusion_matrix=cm)\n",
    "disp.plot()\n",
    "plt.show()"
   ]
  },
  {
   "cell_type": "code",
   "execution_count": 60,
   "id": "f0d7597b-bd31-452b-8939-62f75c2148d1",
   "metadata": {},
   "outputs": [],
   "source": [
    "tpr = recall_score(Malware_Test, y_test)\n",
    "tnr = recall_score(Malware_Test, y_test, pos_label=0)"
   ]
  },
  {
   "cell_type": "code",
   "execution_count": 63,
   "id": "bb88679d-a9ad-4e89-9f91-e36994c512b0",
   "metadata": {},
   "outputs": [
    {
     "data": {
      "text/plain": [
       "'False Positive Rate: 0.0'"
      ]
     },
     "metadata": {},
     "output_type": "display_data"
    },
    {
     "data": {
      "text/plain": [
       "'False Negative Rate: 0.0'"
      ]
     },
     "metadata": {},
     "output_type": "display_data"
    }
   ],
   "source": [
    "fpr = 1 - tnr\n",
    "fnr = 1 - tpr\n",
    "\n",
    "display(f\"False Positive Rate: {fpr}\")\n",
    "display(f\"False Negative Rate: {fnr}\")"
   ]
  },
  {
   "cell_type": "code",
   "execution_count": 65,
   "id": "b7f4ef49-ce1a-46b7-b9b5-306f3a84f14a",
   "metadata": {},
   "outputs": [
    {
     "data": {
      "text/plain": [
       "0"
      ]
     },
     "metadata": {},
     "output_type": "display_data"
    },
    {
     "data": {
      "text/plain": [
       "0"
      ]
     },
     "metadata": {},
     "output_type": "display_data"
    },
    {
     "data": {
      "text/plain": [
       "19412"
      ]
     },
     "metadata": {},
     "output_type": "display_data"
    },
    {
     "data": {
      "text/plain": [
       "8198"
      ]
     },
     "metadata": {},
     "output_type": "display_data"
    }
   ],
   "source": [
    "tn, fp, fn, tp = confusion_matrix(Malware_Test, y_test).ravel()\n",
    "\n",
    "display(fp)\n",
    "display(fn)\n",
    "display(tn)\n",
    "display(tp)"
   ]
  },
  {
   "cell_type": "code",
   "execution_count": 74,
   "id": "2f4c2d2e-2660-4506-b9dd-a1abdbdd5acc",
   "metadata": {},
   "outputs": [
    {
     "data": {
      "text/plain": [
       "1.0"
      ]
     },
     "metadata": {},
     "output_type": "display_data"
    },
    {
     "data": {
      "text/plain": [
       "1.0"
      ]
     },
     "metadata": {},
     "output_type": "display_data"
    },
    {
     "data": {
      "text/plain": [
       "1.0"
      ]
     },
     "metadata": {},
     "output_type": "display_data"
    },
    {
     "data": {
      "text/plain": [
       "1.0"
      ]
     },
     "metadata": {},
     "output_type": "display_data"
    }
   ],
   "source": [
    "from sklearn.metrics import accuracy_score\n",
    "from sklearn.metrics import f1_score\n",
    "\n",
    "display(f1_score(Malware_Test, y_test, average='macro'))\n",
    "display(f1_score(Malware_Test, y_test, average='micro'))\n",
    "display(f1_score(Malware_Test, y_test, average='weighted'))\n",
    "display(f1_score(Malware_Test, y_test, zero_division=1))"
   ]
  },
  {
   "cell_type": "code",
   "execution_count": 75,
   "id": "f2d08e98-0ea6-4ef5-946b-949f9036842c",
   "metadata": {},
   "outputs": [
    {
     "name": "stdout",
     "output_type": "stream",
     "text": [
      "1.0\n",
      "27610\n"
     ]
    }
   ],
   "source": [
    "print(accuracy_score(Malware_Test, y_test))\n",
    "print(accuracy_score(Malware_Test, y_test, normalize=False))"
   ]
  },
  {
   "cell_type": "code",
   "execution_count": 78,
   "id": "299b585d-c73d-45ed-896b-18a0836c6cf6",
   "metadata": {},
   "outputs": [
    {
     "data": {
      "text/plain": [
       "1.0"
      ]
     },
     "metadata": {},
     "output_type": "display_data"
    },
    {
     "data": {
      "text/plain": [
       "1.0"
      ]
     },
     "metadata": {},
     "output_type": "display_data"
    },
    {
     "data": {
      "text/plain": [
       "1.0"
      ]
     },
     "metadata": {},
     "output_type": "display_data"
    },
    {
     "data": {
      "text/plain": [
       "array([1., 1.])"
      ]
     },
     "metadata": {},
     "output_type": "display_data"
    }
   ],
   "source": [
    "from sklearn.metrics import precision_score\n",
    "\n",
    "display(precision_score(Malware_Test, y_test, average='macro'))\n",
    "display(precision_score(Malware_Test, y_test, average='micro'))\n",
    "display(precision_score(Malware_Test, y_test, average='weighted'))\n",
    "display(precision_score(Malware_Test, y_test, average=None))"
   ]
  },
  {
   "cell_type": "markdown",
   "id": "dba1a755-616a-4859-96b0-58f22891e583",
   "metadata": {},
   "source": [
    "All the scores seem to be really good. "
   ]
  },
  {
   "cell_type": "code",
   "execution_count": null,
   "id": "72e3fc63-c5c2-41bb-bcea-b22a41196539",
   "metadata": {},
   "outputs": [
    {
     "data": {
      "text/plain": [
       "array([[<Axes: xlabel='Machine', ylabel='Machine'>,\n",
       "        <Axes: xlabel='SizeOfOptionalHeader', ylabel='Machine'>,\n",
       "        <Axes: xlabel='Characteristics', ylabel='Machine'>, ...,\n",
       "        <Axes: xlabel='LoadConfigurationSize', ylabel='Machine'>,\n",
       "        <Axes: xlabel='VersionInformationSize', ylabel='Machine'>,\n",
       "        <Axes: xlabel='legitimate', ylabel='Machine'>],\n",
       "       [<Axes: xlabel='Machine', ylabel='SizeOfOptionalHeader'>,\n",
       "        <Axes: xlabel='SizeOfOptionalHeader', ylabel='SizeOfOptionalHeader'>,\n",
       "        <Axes: xlabel='Characteristics', ylabel='SizeOfOptionalHeader'>,\n",
       "        ...,\n",
       "        <Axes: xlabel='LoadConfigurationSize', ylabel='SizeOfOptionalHeader'>,\n",
       "        <Axes: xlabel='VersionInformationSize', ylabel='SizeOfOptionalHeader'>,\n",
       "        <Axes: xlabel='legitimate', ylabel='SizeOfOptionalHeader'>],\n",
       "       [<Axes: xlabel='Machine', ylabel='Characteristics'>,\n",
       "        <Axes: xlabel='SizeOfOptionalHeader', ylabel='Characteristics'>,\n",
       "        <Axes: xlabel='Characteristics', ylabel='Characteristics'>, ...,\n",
       "        <Axes: xlabel='LoadConfigurationSize', ylabel='Characteristics'>,\n",
       "        <Axes: xlabel='VersionInformationSize', ylabel='Characteristics'>,\n",
       "        <Axes: xlabel='legitimate', ylabel='Characteristics'>],\n",
       "       ...,\n",
       "       [<Axes: xlabel='Machine', ylabel='LoadConfigurationSize'>,\n",
       "        <Axes: xlabel='SizeOfOptionalHeader', ylabel='LoadConfigurationSize'>,\n",
       "        <Axes: xlabel='Characteristics', ylabel='LoadConfigurationSize'>,\n",
       "        ...,\n",
       "        <Axes: xlabel='LoadConfigurationSize', ylabel='LoadConfigurationSize'>,\n",
       "        <Axes: xlabel='VersionInformationSize', ylabel='LoadConfigurationSize'>,\n",
       "        <Axes: xlabel='legitimate', ylabel='LoadConfigurationSize'>],\n",
       "       [<Axes: xlabel='Machine', ylabel='VersionInformationSize'>,\n",
       "        <Axes: xlabel='SizeOfOptionalHeader', ylabel='VersionInformationSize'>,\n",
       "        <Axes: xlabel='Characteristics', ylabel='VersionInformationSize'>,\n",
       "        ...,\n",
       "        <Axes: xlabel='LoadConfigurationSize', ylabel='VersionInformationSize'>,\n",
       "        <Axes: xlabel='VersionInformationSize', ylabel='VersionInformationSize'>,\n",
       "        <Axes: xlabel='legitimate', ylabel='VersionInformationSize'>],\n",
       "       [<Axes: xlabel='Machine', ylabel='legitimate'>,\n",
       "        <Axes: xlabel='SizeOfOptionalHeader', ylabel='legitimate'>,\n",
       "        <Axes: xlabel='Characteristics', ylabel='legitimate'>, ...,\n",
       "        <Axes: xlabel='LoadConfigurationSize', ylabel='legitimate'>,\n",
       "        <Axes: xlabel='VersionInformationSize', ylabel='legitimate'>,\n",
       "        <Axes: xlabel='legitimate', ylabel='legitimate'>]], dtype=object)"
      ]
     },
     "execution_count": 81,
     "metadata": {},
     "output_type": "execute_result"
    }
   ],
   "source": [
    "pd.plotting.scatter_matrix(MalwareDataset)"
   ]
  }
 ],
 "metadata": {
  "kernelspec": {
   "display_name": "Python 3 (ipykernel)",
   "language": "python",
   "name": "python3"
  },
  "language_info": {
   "codemirror_mode": {
    "name": "ipython",
    "version": 3
   },
   "file_extension": ".py",
   "mimetype": "text/x-python",
   "name": "python",
   "nbconvert_exporter": "python",
   "pygments_lexer": "ipython3",
   "version": "3.9.16"
  }
 },
 "nbformat": 4,
 "nbformat_minor": 5
}
